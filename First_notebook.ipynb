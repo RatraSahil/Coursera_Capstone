{
  "nbformat": 4,
  "nbformat_minor": 0,
  "metadata": {
    "colab": {
      "name": "First_notebook.ipynb",
      "provenance": [],
      "authorship_tag": "ABX9TyPXtlDFz/PnZ+909/3bj2Kg"
    },
    "kernelspec": {
      "name": "python3",
      "display_name": "Python 3"
    }
  },
  "cells": [
    {
      "cell_type": "markdown",
      "metadata": {
        "id": "JTuimWibrzku",
        "colab_type": "text"
      },
      "source": [
        "**Data Science Capstone**\n",
        "\n",
        "This notebook will be used to complete the Data Science Capstone assignments from Coursera."
      ]
    },
    {
      "cell_type": "code",
      "metadata": {
        "id": "Jgm3cgVBsUNX",
        "colab_type": "code",
        "colab": {
          "base_uri": "https://localhost:8080/",
          "height": 34
        },
        "outputId": "1aa70af8-3c8b-404f-aaf7-59eb7a7f4693"
      },
      "source": [
        "import pandas as pd\n",
        "import numpy as np\n",
        "print('Hello Capstone Project Course')"
      ],
      "execution_count": null,
      "outputs": [
        {
          "output_type": "stream",
          "text": [
            "Hello Capstone Project Course\n"
          ],
          "name": "stdout"
        }
      ]
    },
    {
      "cell_type": "code",
      "metadata": {
        "id": "nCfLUlGhwvVw",
        "colab_type": "code",
        "colab": {}
      },
      "source": [
        ""
      ],
      "execution_count": null,
      "outputs": []
    }
  ]
}